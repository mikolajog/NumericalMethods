{
 "cells": [
  {
   "cell_type": "markdown",
   "metadata": {},
   "source": [
    "# <center>Sprawozdanie z Laboratorium 1<br>Metody Numeryczne<br> Mikołaj Ogarek grupa 4b Informatyka WEAIiIB rok 2</center>"
   ]
  },
  {
   "cell_type": "markdown",
   "metadata": {},
   "source": [
    "***Zadanie 1.***   \n"
   ]
  },
  {
   "cell_type": "code",
   "execution_count": 44,
   "metadata": {},
   "outputs": [
    {
     "name": "stdout",
     "output_type": "stream",
     "text": [
      "3360.10416505203\n",
      "4467\n",
      "2j\n",
      "7827.10416505203\n",
      "(7827.10416505203+2j)\n"
     ]
    }
   ],
   "source": [
    "#import biblioteki, wprowadzenie danych oraz wypisanie\n",
    "import math\n",
    "k=1270*math.sqrt(7)\n",
    "m = 4467\n",
    "l = 2j\n",
    "d = k+m\n",
    "c = d+l\n",
    "print(k)\n",
    "print(m)\n",
    "print(l)\n",
    "print(d)\n",
    "print(c)"
   ]
  },
  {
   "cell_type": "markdown",
   "metadata": {},
   "source": [
    "Typy danych:\n",
    "- k: float\n",
    "- m: int\n",
    "- l: complex\n",
    "- d: float\n",
    "- c: complex"
   ]
  },
  {
   "cell_type": "markdown",
   "metadata": {},
   "source": [
    "***Zadanie 2.***  "
   ]
  },
  {
   "cell_type": "code",
   "execution_count": 45,
   "metadata": {},
   "outputs": [
    {
     "name": "stdout",
     "output_type": "stream",
     "text": [
      "7827.10416505203\n",
      "7827.104\n",
      "7827.10416505203011183767\n"
     ]
    }
   ],
   "source": [
    "\"\"\"wyswietlenie zmiennej d z dokładnością domyślną, \n",
    "do trzech miejsc po przecinku oraz do dwudziestu miejsc po przecinku\n",
    "\"\"\"\n",
    "print(d)\n",
    "print (\"{number:.3f}\".format(number=d))\n",
    "print (\"{number:.20f}\".format(number=d))\n"
   ]
  },
  {
   "cell_type": "markdown",
   "metadata": {},
   "source": [
    "***Zadanie 3.***  "
   ]
  },
  {
   "cell_type": "code",
   "execution_count": 46,
   "metadata": {},
   "outputs": [
    {
     "name": "stdout",
     "output_type": "stream",
     "text": [
      "5340.707511102649\n"
     ]
    }
   ],
   "source": [
    "#obliczenie pola powierzchni calkowitej walca\n",
    "r = 17\n",
    "h = 33\n",
    "pole = 2*(math.pi*r*r)+2*math.pi*r*h\n",
    "print(pole)"
   ]
  },
  {
   "cell_type": "markdown",
   "metadata": {},
   "source": [
    "***Zadanie 4.***  "
   ]
  },
  {
   "cell_type": "code",
   "execution_count": 47,
   "metadata": {},
   "outputs": [
    {
     "data": {
      "text/plain": [
       "'\\nKomentarze do kodu\\nzostaly dodane\\n'"
      ]
     },
     "execution_count": 47,
     "metadata": {},
     "output_type": "execute_result"
    }
   ],
   "source": [
    "\"\"\"\n",
    "Komentarze do kodu\n",
    "zostaly dodane\n",
    "\"\"\"\n",
    "#Jednoliniowe rowniez"
   ]
  },
  {
   "cell_type": "markdown",
   "metadata": {},
   "source": [
    "***Zadanie 5.***  "
   ]
  },
  {
   "cell_type": "code",
   "execution_count": 48,
   "metadata": {},
   "outputs": [
    {
     "name": "stdout",
     "output_type": "stream",
     "text": [
      "2320.4142010167484\n"
     ]
    }
   ],
   "source": [
    "#wykonanie obliczen, z danymi oraz implementacja podanego wzoru\n",
    "x1 = 10\n",
    "t = 5\n",
    "r = 2\n",
    "B = ((x1+r)*math.pow(x1, t-r))/((r*math.sin(2*x1))+3.3456)\n",
    "\n",
    "print(B)"
   ]
  },
  {
   "cell_type": "markdown",
   "metadata": {},
   "source": [
    "***Zadanie 6.***  "
   ]
  },
  {
   "cell_type": "code",
   "execution_count": 49,
   "metadata": {},
   "outputs": [
    {
     "name": "stdout",
     "output_type": "stream",
     "text": [
      "Macierz M to: \n",
      "[[ 1.41421356  1.         -1.41421356]\n",
      " [ 0.          1.          1.        ]\n",
      " [-1.41421356  1.41421356  1.        ]]\n",
      "Macierz odwrotna: \n",
      "[[ 0.10355339  0.75       -0.60355339]\n",
      " [ 0.35355339  0.14644661  0.35355339]\n",
      " [-0.35355339  0.85355339 -0.35355339]]\n",
      "Macierz transponowana: \n",
      "[[ 1.41421356  0.         -1.41421356]\n",
      " [ 1.          1.          1.41421356]\n",
      " [-1.41421356  1.          1.        ]]\n",
      "Wyznacznik macierzy:\n",
      "-4.0\n"
     ]
    }
   ],
   "source": [
    "#delaracja macierzy, macierz odwrotna, transponowana oraz wyznacznik\n",
    "import numpy as np \n",
    "from numpy.linalg import inv\n",
    "from numpy.linalg import det\n",
    "a = math.sqrt(2)\n",
    "M = np.array([[a, 1.0, -a], [0.0, 1.0, 1.0 ], [-a, a, 1.0]])\n",
    "\n",
    "print(\"Macierz M to: \\n{}\".format(M))\n",
    "M_inv = inv(M)\n",
    "\n",
    "print(\"Macierz odwrotna: \")\n",
    "print(M_inv)\n",
    "\n",
    "print(\"Macierz transponowana: \")\n",
    "M_transpose  = np.transpose(M)\n",
    "print(M_transpose)\n",
    "\n",
    "print(\"Wyznacznik macierzy:\")\n",
    "M_det = det(M)\n",
    "print(M_det) "
   ]
  },
  {
   "cell_type": "markdown",
   "metadata": {},
   "source": [
    "***Zadanie 7.***  "
   ]
  },
  {
   "cell_type": "code",
   "execution_count": 50,
   "metadata": {},
   "outputs": [
    {
     "name": "stdout",
     "output_type": "stream",
     "text": [
      "M11: \n",
      "1.4142135623730951\n",
      "M33: \n",
      "1.0\n",
      "M32: \n",
      "1.4142135623730951\n",
      "Trzecia kolumna: \n",
      "[-1.41421356  1.          1.        ]\n",
      "Drugi wiersz: \n",
      "[0. 1. 1.]\n"
     ]
    }
   ],
   "source": [
    "#drukowanie poszczegolnych elementow macierzy, kolumn i wierszy\n",
    "print(\"M11: \")\n",
    "print(M[0,0])\n",
    "print(\"M33: \")\n",
    "print(M[2,2])\n",
    "print(\"M32: \")\n",
    "print(M[2,1])\n",
    "w1 = M[:, 2]\n",
    "w2 = M[1,:]\n",
    "print(\"Trzecia kolumna: \")\n",
    "print(w1)\n",
    "print(\"Drugi wiersz: \")\n",
    "print(w2)"
   ]
  },
  {
   "cell_type": "markdown",
   "metadata": {},
   "source": [
    "***Zadanie 8.***  "
   ]
  },
  {
   "cell_type": "code",
   "execution_count": 51,
   "metadata": {},
   "outputs": [
    {
     "name": "stdout",
     "output_type": "stream",
     "text": [
      "[ 5.  3.  2. -2. -1.]\n",
      "0.0\n",
      "0.0\n",
      "0.0\n",
      "0.0\n",
      "0.0\n"
     ]
    }
   ],
   "source": [
    "#pierwiastki wielomianu oraz sprawdzenie czy są miejscami zerowymi\n",
    "wielomian = [1, -7, 3, 43, -28, -60]\n",
    "roots = np.roots(wielomian)\n",
    "print(roots)\n",
    "for x in roots:\n",
    "    print(np.polyval(wielomian, round(x)))"
   ]
  },
  {
   "cell_type": "markdown",
   "metadata": {},
   "source": [
    "Należy użyć round(x) ponieważ: "
   ]
  },
  {
   "cell_type": "markdown",
   "metadata": {},
   "source": [
    "***Zadanie 9.***  "
   ]
  },
  {
   "cell_type": "code",
   "execution_count": 52,
   "metadata": {},
   "outputs": [
    {
     "name": "stdout",
     "output_type": "stream",
     "text": [
      "[1.3 1.6 1.9 2.2 2.5 2.8 3.1 3.4 3.7 4.  4.3 4.6 4.9 5.2 5.5 5.8 6.1 6.4\n",
      " 6.7]\n",
      "[ 1.5  5.   8.5 12.  15.5]\n"
     ]
    }
   ],
   "source": [
    "#Liczby z zakresu 1.3 - 6.7 z krokiem 0.3\n",
    "from numpy import arange\n",
    "result1 = arange(1.3, 6.7, 0.3)\n",
    "print(result1)\n",
    "\n",
    "#5 liczb z zakresu 1.5-15.5. Zatem są one z krokiem 3.5. \n",
    "from numpy import linspace\n",
    "result2 = linspace(1.5, 15.5, num=5)\n",
    "print(result2)"
   ]
  },
  {
   "cell_type": "markdown",
   "metadata": {},
   "source": [
    "***Zadanie 10.***  "
   ]
  },
  {
   "cell_type": "code",
   "execution_count": 53,
   "metadata": {},
   "outputs": [
    {
     "data": {
      "image/png": "[encoded data removed]",
      "text/plain": [
       "<Figure size 432x288 with 1 Axes>"
      ]
     },
     "metadata": {
      "needs_background": "light"
     },
     "output_type": "display_data"
    },
    {
     "data": {
      "image/png": "[encoded data removed]",
      "text/plain": [
       "<Figure size 432x288 with 1 Axes>"
      ]
     },
     "metadata": {
      "needs_background": "light"
     },
     "output_type": "display_data"
    },
    {
     "data": {
      "image/png": "[encoded data removed]",
      "text/plain": [
       "<Figure size 432x288 with 1 Axes>"
      ]
     },
     "metadata": {
      "needs_background": "light"
     },
     "output_type": "display_data"
    }
   ],
   "source": [
    "#definicja funkcji oraz import matplotlib\n",
    "import matplotlib.pyplot as plt\n",
    "def funkcja(x):\n",
    "    return x**3 - 3*x\n",
    "\n",
    "#wykres dla <-1,1>\n",
    "x = np.linspace(-1,1)\n",
    "y = []\n",
    "for i in x:\n",
    "    y.append(funkcja(i))\n",
    "plt.plot(x, y)\n",
    "plt.title('Wykres dla <-1, 1>')\n",
    "plt.xlabel('Argumenty')\n",
    "plt.ylabel('Wartości')\n",
    "plt.legend('Wykres 1')\n",
    "plt.show()\n",
    "\n",
    "#wykres dla <-5,5>\n",
    "x = np.linspace(-5,5)\n",
    "y = []\n",
    "for i in x:\n",
    "    y.append(funkcja(i))\n",
    "plt.plot(x, y)\n",
    "plt.title('Wykres dla <-5, 5>')\n",
    "plt.xlabel('Argumenty')\n",
    "plt.ylabel('Wartości')\n",
    "plt.legend('Wykres 2')\n",
    "plt.show()\n",
    "\n",
    "#wykres dla <-0,5>\n",
    "x = np.linspace(0,5)\n",
    "y = []\n",
    "for i in x:\n",
    "    y.append(funkcja(i))\n",
    "plt.plot(x, y)\n",
    "plt.title('Wykres dla <0, 5>')\n",
    "plt.xlabel('Argumenty')\n",
    "plt.ylabel('Wartości')\n",
    "plt.legend('Wykres 3')\n",
    "plt.show()"
   ]
  },
  {
   "cell_type": "markdown",
   "metadata": {},
   "source": [
    "***Zadanie 11.***  "
   ]
  },
  {
   "cell_type": "code",
   "execution_count": 57,
   "metadata": {},
   "outputs": [
    {
     "name": "stdout",
     "output_type": "stream",
     "text": [
      "W dżulach: \n",
      "347.2222222222223\n",
      "W kilokaloriach: \n",
      "0.08293260299565833\n"
     ]
    }
   ],
   "source": [
    "#definiuję funkcję cieplo oraz obliczam w dżulach oraz kilokaloriach\n",
    "def cieplo(m,v):\n",
    "    m = m/1000\n",
    "    v = v*1000/3600\n",
    "    result = (m*v*v)/2\n",
    "    return result\n",
    "\n",
    "result = cieplo(2500, 60)\n",
    "print(\"W dżulach: \")\n",
    "print(result)\n",
    "print(\"W kilokaloriach: \")\n",
    "print(result/(4.1868*1000))"
   ]
  },
  {
   "cell_type": "code",
   "execution_count": 59,
   "metadata": {},
   "outputs": [
    {
     "data": {
      "image/png": "[encoded data removed]",
      "text/plain": [
       "<Figure size 432x288 with 1 Axes>"
      ]
     },
     "metadata": {
      "needs_background": "light"
     },
     "output_type": "display_data"
    }
   ],
   "source": [
    "#wykres liniowy: \n",
    "x = np.linspace(0,200)\n",
    "y = []\n",
    "for i in x:\n",
    "    y.append(cieplo(3000, i))\n",
    "plt.plot(x, y)\n",
    "plt.xlim(200, 0) \n",
    "plt.title('Wykres zależnosci ciepła od prędkości')\n",
    "plt.xlabel('Prędkość')\n",
    "plt.ylabel('Ciepło')\n",
    "plt.legend('Wykres 1')\n",
    "plt.show()"
   ]
  },
  {
   "cell_type": "code",
   "execution_count": 62,
   "metadata": {},
   "outputs": [
    {
     "data": {
      "image/png": "[encoded data removed]",
      "text/plain": [
       "<Figure size 432x288 with 1 Axes>"
      ]
     },
     "metadata": {
      "needs_background": "light"
     },
     "output_type": "display_data"
    }
   ],
   "source": [
    "#wykres logarytmiczny:\n",
    "x = np.linspace(200,0)\n",
    "y = []\n",
    "for i in x:\n",
    "    y.append(cieplo(3000, i))\n",
    "\n",
    "\n",
    "plt.xlim(200, 0) \n",
    "plt.semilogy(x, y)\n",
    "plt.title('Wykres logarytmiczny zależnosci ciepła od prędkości')\n",
    "plt.xlabel('Prędkość')\n",
    "plt.ylabel('Ciepło')\n",
    "plt.legend('Wykres 1')\n",
    "plt.show()"
   ]
  },
  {
   "cell_type": "code",
   "execution_count": null,
   "metadata": {},
   "outputs": [],
   "source": []
  }
 ],
 "metadata": {
  "kernelspec": {
   "display_name": "Python 3",
   "language": "python",
   "name": "python3"
  },
  "language_info": {
   "codemirror_mode": {
    "name": "ipython",
    "version": 3
   },
   "file_extension": ".py",
   "mimetype": "text/x-python",
   "name": "python",
   "nbconvert_exporter": "python",
   "pygments_lexer": "ipython3",
   "version": "3.7.0"
  }
 },
 "nbformat": 4,
 "nbformat_minor": 2
}
