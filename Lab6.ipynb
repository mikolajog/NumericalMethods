{
 "cells": [
  {
   "cell_type": "markdown",
   "metadata": {},
   "source": [
    "# <center>Sprawozdanie z Laboratorium 6<br>Metody Numeryczne<br> Mikołaj Ogarek grupa 4b Informatyka WEAIiIB rok 2</center>"
   ]
  },
  {
   "cell_type": "markdown",
   "metadata": {},
   "source": [
    "***Zadanie 1***   \n",
    "Na przedziale [0,1] dana jest funkcja \n",
    "$ f(x) = e^{-2x}$\n",
    "Oblicz całkę $\\int_{0}^{1}f(x)dx$ korzystając z:\n",
    "1. metody analitycznej,\n",
    "2. metody prostokątów,\n",
    "3. prostego wzoru trapezów,\n",
    "4. prostego wzoru Simpsona,\n",
    "5. złożonego wzoru trapezów (10 podprzedziałów),\n",
    "6. złożonego wzoru Simpsona (10 podprzedziałów),\n",
    "7. metody [Romberga](https://docs.scipy.org/doc/scipy/reference/generated/scipy.integrate.romberg.html) z dokładnością $10^{-6}$,\n",
    "8. metody [scipy.integrate.quad](https://docs.scipy.org/doc/scipy/reference/tutorial/integrate.html). \n",
    "\n",
    "Dokonaj własnej implementacji metod 2-6. Porównaj otrzymane wyniki. Który z nich jest najbardziej zbliżony do wyniku analitycznego?"
   ]
  },
  {
   "cell_type": "markdown",
   "metadata": {},
   "source": [
    "Ad 1. <br/>\n",
    "$\\int_{0}^{1}e^{-2x}dx=...$ <br/>\n",
    "$\\int e^{-2x}dx= -\\frac{1}{2}e^{-2x}+C$ <br/>\n",
    "$...=(-\\frac{1}{2}e^{-2x})|_{0}^{1}=-\\frac{1}{2}e^{-2}-(-\\frac{1}{2}e^0)=\\frac{1}{2}(1-\\frac{1}{e^{2}})\\approx 0.432332$\n"
   ]
  },
  {
   "cell_type": "code",
   "execution_count": 7,
   "metadata": {},
   "outputs": [
    {
     "name": "stdout",
     "output_type": "stream",
     "text": [
      "Wynik metodą prostokątów:  0.36787944117144233\n",
      "Wynik metodą prostą trapezow:  0.5676676416183064\n",
      "Wynik metodą prostą Simpsona:  0.4344755079870637\n",
      "Wynik metodą złożoną trapezow - 10 podprzedzialow::  0.4337725064184669\n",
      "Wynik metodą złożoną Simpsona - 10 podprzedzialow:  0.43233259828070303\n",
      "Wynik metodą Romberga z tolerancją 10e-6:  0.43233235838943557\n",
      "Wynik metodą scipy.integrate.quad:  0.4323323583816936\n"
     ]
    }
   ],
   "source": [
    "from math import exp\n",
    "from scipy import integrate\n",
    "\n",
    "def wzor(x):\n",
    "    return exp(-2*x)\n",
    "\n",
    "#Ad 2\n",
    "def metoda_prostokatow(wzor, gorna, dolna):\n",
    "    return ((gorna-dolna)*(wzor((gorna+dolna)/2)))\n",
    "\n",
    "print(\"Wynik metodą prostokątów: \", metoda_prostokatow(wzor,1, 0)) \n",
    "\n",
    "#Ad 3\n",
    "def prosty_wzor_trapezow(wzor, gorna, dolna):\n",
    "    return ((gorna-dolna)/2)*(wzor(dolna)+wzor(gorna))\n",
    "\n",
    "print(\"Wynik metodą prostą trapezow: \", prosty_wzor_trapezow(wzor, 1,0)) \n",
    "\n",
    "#Ad 4\n",
    "def prosty_wzor_Simpsona(wzor, gorna, dolna):\n",
    "    return ((gorna-dolna)/6)*(wzor(dolna)+(4*(wzor((gorna+dolna)/2)))+ wzor(gorna))\n",
    "\n",
    "print(\"Wynik metodą prostą Simpsona: \", prosty_wzor_Simpsona(wzor, 1,0)) \n",
    "\n",
    "#Ad 5\n",
    "def wzor_trapezow(wzor, gorna, dolna, ilosc_podprzedzialow):\n",
    "    sum=0\n",
    "    for i in range(ilosc_podprzedzialow):\n",
    "        xkplus1=dolna + ((i+1)*((gorna-dolna)/ilosc_podprzedzialow))\n",
    "        xk=dolna + (i*((gorna-dolna)/ilosc_podprzedzialow))\n",
    "        sum+=((xkplus1-xk)/2)*(wzor(xkplus1)+wzor(xk))\n",
    "    return sum\n",
    "\n",
    "print(\"Wynik metodą złożoną trapezow - 10 podprzedzialow:: \", wzor_trapezow(wzor, 1,0, 10)) \n",
    "\n",
    "#Ad 6\n",
    "def wzor_Simpsona(wzor, gorna, dolna, ilosc_podprzedzialow):\n",
    "    sum=0\n",
    "    for i in range(ilosc_podprzedzialow):\n",
    "        xkplus1=dolna + ((i+1)*((gorna-dolna)/ilosc_podprzedzialow))\n",
    "        xk=dolna + (i*((gorna-dolna)/ilosc_podprzedzialow))\n",
    "        sum+=((xkplus1-xk)/6)*(wzor(xk)+(4*(wzor(((xkplus1+xk)/2))))+wzor(xkplus1))\n",
    "    return sum\n",
    "\n",
    "print(\"Wynik metodą złożoną Simpsona - 10 podprzedzialow: \", wzor_Simpsona(wzor, 1,0, 10)) \n",
    "\n",
    "#Ad 7\n",
    "print(\"Wynik metodą Romberga z tolerancją 10e-6: \", integrate.romberg(wzor, 0, 1, tol=10e-6))\n",
    "\n",
    "#Ad 8\n",
    "print(\"Wynik metodą scipy.integrate.quad: \", integrate.quad(wzor, 0, 1)[0])\n",
    "\n"
   ]
  },
  {
   "cell_type": "markdown",
   "metadata": {},
   "source": [
    "Porównanie wyników ze względu na wartość bezwzględną różnicy pomiędzy wartością wyliczoną przez funkcję, a wartością obliczoną analitycznie(uszeregowane rosnąco): \n",
    "\n",
    "1. Metoda scipy.integrate.quad: 3.583816936 × 10^-7\n",
    "2. Metoda Romberga z tolerancją 10e-6: 3.5838943557 × 10^-7\n",
    "3. Metoda złożona Simpsona: 5.9828070303 × 10^-7\n",
    "4. Metoda złożona trapezów: 0.0014405064184669\n",
    "5. Metoda prosta Simpsona: 0.0021435079870637\n",
    "6. Metoda prostokątów: 0,064452562941970253  \n",
    "7. Metoda prosta trapezów: 0.1353356416183064\n",
    "\n",
    "Biorąc pod uwagę powyższe zestawienie(przy danych tolerancjach i ilościach podprzedziałów) można stwierdzić, iż metoda, która daje wynik najbardziej zbliżony do wyniku obliczania całki analitycznie to metoda scipy.integrate.quad. \n"
   ]
  },
  {
   "cell_type": "markdown",
   "metadata": {},
   "source": [
    "***Zadanie 2***  \n",
    "Dane jest równanie: $$\\int_{0}^{x}\\frac{1}{\\sqrt{2\\pi}}e^{\\frac{-t^2}{2}}dt=0.45$$ Rozwiąż je korzystając z metody Newtona z dokładnością $10^{-5}$ za punkt startowy przyjmując $p_0=0.5$. Do obliczenia całki zastosuj złożony wzór trapezów oraz złożony wzór Simpsona. Porównaj otrzymane wyniki z wartością referencyjną.\n",
    "\n",
    "***Wskazówka***: Zauważ, że powyższa całka opisuje prawdopodobieństwo $P(0\\leq t\\leq x)$ dla zmiennej losowej $t$ o rozkładzie Gaussa z parametrami $\\mu=0,\\sigma=1$. Do wyznaczenia wartości referencyjnej możesz użyć metody z  klasy [scipy.stats.norm](https://docs.scipy.org/doc/scipy/reference/generated/scipy.stats.norm.html)."
   ]
  },
  {
   "cell_type": "code",
   "execution_count": 3,
   "metadata": {},
   "outputs": [
    {
     "name": "stdout",
     "output_type": "stream",
     "text": [
      "Wyliczone x metodą trapezów:  1.6485764163808687\n",
      "Wyliczone x metodą Simpsona:  1.644853505055164\n",
      "Dla x metodą trapezów:  0.00038277822972626607\n",
      "Dla x metodą Simpsona:  1.2571855168008739e-08\n"
     ]
    }
   ],
   "source": [
    "from math import pi\n",
    "from math import sqrt\n",
    "from math import exp\n",
    "from math import pow\n",
    "def wzor(t):\n",
    "    return ((1/sqrt(2*pi))*exp(-pow(t,2)/2))\n",
    "\n",
    "def wzor_trapezow(wzor, dolna, ilosc_podprzedzialow):\n",
    "    def wzorek(gorna):\n",
    "        sum=0\n",
    "        for i in range(ilosc_podprzedzialow):\n",
    "            xkplus1=dolna + ((i+1)*((gorna-dolna)/ilosc_podprzedzialow))\n",
    "            xk=dolna + (i*((gorna-dolna)/ilosc_podprzedzialow))\n",
    "            sum+=((xkplus1-xk)/2)*(wzor(xkplus1)+wzor(xk))\n",
    "        return sum\n",
    "    return (wzorek)\n",
    "\n",
    "\n",
    "def wzor_Simpsona(wzor, dolna, ilosc_podprzedzialow):\n",
    "    def wzorek(gorna):\n",
    "        sum=0\n",
    "        for i in range(ilosc_podprzedzialow):\n",
    "            xkplus1=dolna + ((i+1)*((gorna-dolna)/ilosc_podprzedzialow))\n",
    "            xk=dolna + (i*((gorna-dolna)/ilosc_podprzedzialow))\n",
    "            sum+=((xkplus1-xk)/6)*(wzor(xk)+(4*(wzor(((xkplus1+xk)/2))))+wzor(xkplus1))\n",
    "        return sum\n",
    "    return (wzorek)\n",
    "\n",
    "def rownanie_trapezow(x):\n",
    "    return wzor_trapezow(wzor, 0, 10)(x) - wzor_trapezow(wzor, 0, 10)(0)-0.45\n",
    "\n",
    "def rownanie_Simpsona(x):\n",
    "    return wzor_Simpsona(wzor, 0, 10)(x) - wzor_Simpsona(wzor, 0, 10)(0)-0.45\n",
    "\n",
    "from scipy import optimize\n",
    "\n",
    "\n",
    "root1 = optimize.newton(rownanie_trapezow, 0.5, tol=10e-5)\n",
    "root2 = optimize.newton(rownanie_Simpsona, 0.5, tol=10e-5)\n",
    "\n",
    "print(\"Wyliczone x metodą trapezów: \", root1)\n",
    "print(\"Wyliczone x metodą Simpsona: \", root2)\n",
    "\n",
    "#Chcemy sprawdzić poprawność z dystrybuantą rozkładu normalnego, zatem od dystrybuanty dla x odejmujemy dystrybuantę dla 0 \n",
    "#i wartość bezwzględna różnicy otrzymanej wartości i 0.45 powinna być jak najmniejsza, aby metoda była dokładna. \n",
    "\n",
    "from scipy.stats import norm\n",
    "\n",
    "print (\"Dla x metodą trapezów: \",abs((norm.cdf(root1)-norm.cdf(0))-0.45))\n",
    "\n",
    "\n",
    "print (\"Dla x metodą Simpsona: \",abs((norm.cdf(root2)-norm.cdf(0))-0.45))\n",
    "\n",
    "\n",
    "\n"
   ]
  },
  {
   "cell_type": "markdown",
   "metadata": {},
   "source": [
    "Można zauważyć, iż obliczenia z wykorzystaniem metody Simpsona są bardziej precyzyjne, niż obliczenia z wykorzystaniem metody trapezów. "
   ]
  },
  {
   "cell_type": "markdown",
   "metadata": {},
   "source": [
    "***Zadanie 3***  \n",
    "Kierowca jadący z miasta A do miasta B, zauważywszy na drodze przeszkodę, zaczął gwałtownie hamować aż do zatrzymania po czterech sekundach. Przyspieszenie jego samochodu zarejestrowane przez przypadkowego fizyka obserwującego zdarzenie przedstawione jest w poniższej tabeli. \n",
    "\n",
    "|czas \\[s\\]|przyspieszenie \\[$\\frac{m}{s^2}$\\]|\n",
    "|--|--|\n",
    "|0.0|-4.5|\n",
    "|0.5|-4.5|\n",
    "|1.0|-2.3|\n",
    "|2.0|-1.0|\n",
    "|3.0|-0.5|\n",
    "|4.0|0.0|\n",
    "\n",
    "* Oblicz drogę hamowania pojazdu.\n",
    "* Oblicz prędkość średnią samochodu w przedziale $t=\\left[0,0.5\\right]$.\n",
    "\n",
    "\n",
    "\n"
   ]
  },
  {
   "cell_type": "code",
   "execution_count": 4,
   "metadata": {},
   "outputs": [
    {
     "name": "stdout",
     "output_type": "stream",
     "text": [
      "Prędkość średnia dla 0<=t<=0.5 4.682689200680272 m/s\n",
      "Droga hamowania to:  4.257959183673468 m\n"
     ]
    }
   ],
   "source": [
    "def interpol_Lagrangea(argumenty, odpowImWartosci):\n",
    "    def wzor(t):\n",
    "        result=0\n",
    "        for x in range(0, len(argumenty)):\n",
    "            returning=1\n",
    "            for a in range(0, len(argumenty)):\n",
    "                if a==x:\n",
    "                    continue\n",
    "                else:\n",
    "                    returning= returning*((t-argumenty[a])/(argumenty[x]-argumenty[a]))\n",
    "            result+=returning*odpowImWartosci[x]\n",
    "        return result\n",
    "    return wzor\n",
    "    \n",
    "przyspieszenie=interpol_Lagrangea([0.0, 0.5, 1.0, 2.0, 3.0, 4.0], [-4.5, -4.5, -2.3, -1.0, -0.5, 0.0])  \n",
    "\n",
    "def predkosc(t):\n",
    "    return (integrate.quad(przyspieszenie, 0, t)[0]-integrate.quad(przyspieszenie, 0, 4.0)[0])\n",
    "    \n",
    "print (\"Prędkość średnia dla 0<=t<=0.5\",(integrate.quad(predkosc, 0, 0.5)[0])/0.5, \"m/s\")\n",
    "\n",
    "print(\"Droga hamowania to: \",integrate.quad(predkosc, 0, 4.0)[0], \"m\")"
   ]
  },
  {
   "cell_type": "markdown",
   "metadata": {},
   "source": [
    "***Zadanie 4***  \n",
    "Arkusz blachy falistej otrzymywany jest poprzez prasowanie blachy płaskiej na formie w kształcie fali. Profil fali można opisać funkcją $f(x)=A\\sin(2\\pi\\frac{x}{T})$. Pracownik fabryki chce uzyskać arkusz blachy falistej o długości $4.8 \\textrm{m}$, amplitudzie $A=0.1 \\textrm{m}$ i okresie $T=0.2\\textrm{m}$.\n",
    "* Oblicz, ile metrów bieżących płaskiej blachy potrzeba do wyprodukowania opisanego arkusza. Obliczenia wykonaj wykorzystając złożoną metodę trapezów, złożoną metodę Simpsona oraz metodę Romberga, a następnie porównaj otrzymane rezultaty.\n",
    "* Dla wzoru trapezów oraz wzoru Simpsona wykonaj wykres prezentujący otrzymany rezultat w zależności od ilości podprzedziałów (od 1 do 100). Skomentuj otrzymane rezultaty.\n",
    "\n",
    "***Wskazówka***: Wykorzystaj znany Ci z analizy matematycznej wzór na [długość łuku krzywej](https://pl.wikipedia.org/wiki/Długość_łuku)."
   ]
  },
  {
   "cell_type": "code",
   "execution_count": 5,
   "metadata": {},
   "outputs": [
    {
     "name": "stdout",
     "output_type": "stream",
     "text": [
      "15.825159885482952\n",
      "15.82515988548295\n",
      "15.825159885482952\n"
     ]
    },
    {
     "data": {
      "text/plain": [
       "<Figure size 640x480 with 1 Axes>"
      ]
     },
     "metadata": {},
     "output_type": "display_data"
    }
   ],
   "source": [
    "from math import cos\n",
    "from math import pi\n",
    "from math import sqrt\n",
    "\n",
    "\n",
    "\n",
    "def wzor_pochodna_kwadrat(x):\n",
    "    return (sqrt(1+ pow(pi*cos(10*pi*x), 2)))\n",
    "\n",
    "\n",
    "def wzor_trapezow(wzor, gorna, dolna, ilosc_podprzedzialow):\n",
    "    sum=0\n",
    "    for i in range(ilosc_podprzedzialow):\n",
    "        xkplus1=dolna + ((i+1)*((gorna-dolna)/ilosc_podprzedzialow))\n",
    "        xk=dolna + (i*((gorna-dolna)/ilosc_podprzedzialow))\n",
    "        sum+=((xkplus1-xk)/2)*(wzor(xkplus1)+wzor(xk))\n",
    "    return sum\n",
    "\n",
    "\n",
    "def wzor_Simpsona(wzor, gorna, dolna, ilosc_podprzedzialow):\n",
    "    sum=0\n",
    "    for i in range(ilosc_podprzedzialow):\n",
    "        xkplus1=dolna + ((i+1)*((gorna-dolna)/ilosc_podprzedzialow))\n",
    "        xk=dolna + (i*((gorna-dolna)/ilosc_podprzedzialow))\n",
    "        sum+=((xkplus1-xk)/6)*(wzor(xk)+(4*(wzor(((xkplus1+xk)/2))))+wzor(xkplus1))\n",
    "    return sum\n",
    "\n",
    "\n",
    "print(wzor_trapezow(wzor_pochodna_kwadrat, 4.8, 0, 4))\n",
    "print(wzor_Simpsona(wzor_pochodna_kwadrat, 4.8, 0, 4))\n",
    "print(integrate.romberg(wzor_pochodna_kwadrat, 0, 4.8, tol=10e-6))\n",
    "\n",
    "\n",
    "osx=[]\n",
    "t=[]\n",
    "s=[]\n",
    "r=[]\n",
    "\n",
    "\n",
    "for x in range(2, 101):\n",
    "    t.append(wzor_trapezow(wzor_pochodna_kwadrat, 4.80, 0, x))\n",
    "    s.append(wzor_Simpsona(wzor_pochodna_kwadrat, 4.80, 0, x))\n",
    "    osx.append(x)\n",
    "    r.append(integrate.romberg(wzor_pochodna_kwadrat, 0, 4.80, tol=10e-6))\n",
    "\n",
    "import matplotlib.pyplot as plt\n",
    "\n",
    "    \n",
    "plt.plot(osx, t, '.', label=\"Wzor Trapezow\")\n",
    "plt.plot(osx, s, '.', label=\"Wzor Simpsona\")\n",
    "plt.plot(osx, r, '.', label=\"Wzor Romberga\")\n",
    "\n",
    "plt.title('Porównanie wzoru trapezów, Simpsona i Romberga')\n",
    "plt.xlabel('Dlugość podprzedziałów')\n",
    "plt.ylabel('Długość blachy')\n",
    "\n",
    "plt.legend(bbox_to_anchor=(1.05, 1), loc=2, borderaxespad=0.)\n",
    "plt.show() \n",
    "\n"
   ]
  },
  {
   "cell_type": "markdown",
   "metadata": {},
   "source": [
    "Dla 2,3 lub 4 podprzedziałów wyniki metody trapezów i Simpsona dają podobne wyniki co metoda Romberga, jednak dla większej ilości podprzedziałów wyniki dwóch pierwszych metod znacznie różnią się od wyniku metody Romberga(co można zauważyć na powyższym wykresie). "
   ]
  },
  {
   "cell_type": "code",
   "execution_count": null,
   "metadata": {},
   "outputs": [],
   "source": []
  },
  {
   "cell_type": "code",
   "execution_count": null,
   "metadata": {},
   "outputs": [],
   "source": []
  },
  {
   "cell_type": "code",
   "execution_count": null,
   "metadata": {},
   "outputs": [],
   "source": []
  }
 ],
 "metadata": {
  "kernelspec": {
   "display_name": "Python 3",
   "language": "python",
   "name": "python3"
  },
  "language_info": {
   "codemirror_mode": {
    "name": "ipython",
    "version": 3
   },
   "file_extension": ".py",
   "mimetype": "text/x-python",
   "name": "python",
   "nbconvert_exporter": "python",
   "pygments_lexer": "ipython3",
   "version": "3.7.0"
  }
 },
 "nbformat": 4,
 "nbformat_minor": 2
}
